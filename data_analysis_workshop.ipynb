{
 "cells": [
  {
   "cell_type": "markdown",
   "id": "5fdedcdf-3ae0-4d07-8b0e-4a13e02246b2",
   "metadata": {},
   "source": [
    "# Workshop de Análise de Dados\n",
    "\n",
    "No dia 25 de setembro de 2024, participei de um workshop de análise de dados durante o evento SEDCITEC 2024, realizado no IFSP. O workshop foi dado pelo analista de dados e professor Jairo Almeida. O principal objetivo era aprender conceitos gerais de análise de dados de forma prática, transformando dados brutos e sem contexto em informações valiosas e compreensíveis."
   ]
  },
  {
   "cell_type": "markdown",
   "id": "d1fa1d62-e7f3-41b0-bf3b-73e53385c3a8",
   "metadata": {},
   "source": [
    "## Conteúdo produzido \n",
    "\n",
    "Uma das atividades do workshop foi a criação de um bar chart race (gráfico de corrida de barras) sobre um tema à escolha dos participantes. O tema que escolhi foi os cinco times da conferência leste da NBA com maior popularidade global, com base nas buscas realizadas entre 2020 e 2023 no Google. O gráfico gerado, apresentado abaixo, ilustra a evolução da popularidade dos times ao longo dos anos, oferecendo uma análise visual das tendências de busca."
   ]
  },
  {
   "cell_type": "markdown",
   "id": "2c5ad90e",
   "metadata": {},
   "source": [
    "### Ferramentas utilizadas:\n",
    "\n",
    "- Google Trends: Utilizado para coletar os dados de busca globais relacionados aos times da NBA.\n",
    "- Excel: Utilizado para o tratamento e limpeza dos dados coletados.\n",
    "- Flourish: Utilizado para criar visualizações interativas, facilitando a compreensão e análise dos dados em formato gráfico."
   ]
  },
  {
   "cell_type": "code",
   "execution_count": 1,
   "id": "ae284744-23f4-4fc3-8245-00d3877c4fc9",
   "metadata": {},
   "outputs": [
    {
     "data": {
      "text/html": [
       "\n",
       "        <iframe\n",
       "            width=\"100%\"\n",
       "            height=\"800\"\n",
       "            src=\"https://public.flourish.studio/visualisation/19554361/\"\n",
       "            frameborder=\"0\"\n",
       "            allowfullscreen\n",
       "            \n",
       "        ></iframe>\n",
       "        "
      ],
      "text/plain": [
       "<IPython.lib.display.IFrame at 0x2179c009c10>"
      ]
     },
     "execution_count": 1,
     "metadata": {},
     "output_type": "execute_result"
    }
   ],
   "source": [
    "from IPython.display import IFrame\n",
    "\n",
    "flourish_url = \"https://public.flourish.studio/visualisation/19554361/\"\n",
    "\n",
    "IFrame(src=flourish_url, width='100%', height='800')\n"
   ]
  },
  {
   "cell_type": "markdown",
   "id": "2516d310",
   "metadata": {},
   "source": [
    "### Visualização Interativa do Gráfico\n",
    "[Visualize o gráfico interativo diretamente no Flourish clicando aqui](https://public.flourish.studio/visualisation/19554361/)"
   ]
  },
  {
   "cell_type": "markdown",
   "id": "baf25167-8236-40ac-b6bf-28a95416622f",
   "metadata": {},
   "source": [
    "# Conclusão\n",
    "\n",
    "Participar desse workshop foi uma experiência enriquecedora para meus estudos em análise de dados. A aplicação prática dos conceitos discutidos no workshop me proporcionou uma visão mais clara e objetiva sobre o potencial da área. Agradeço ao professor Jairo Almeida pela excelente oficina e por tornar essa experiência tão produtiva."
   ]
  }
 ],
 "metadata": {
  "kernelspec": {
   "display_name": "Python 3 (ipykernel)",
   "language": "python",
   "name": "python3"
  },
  "language_info": {
   "codemirror_mode": {
    "name": "ipython",
    "version": 3
   },
   "file_extension": ".py",
   "mimetype": "text/x-python",
   "name": "python",
   "nbconvert_exporter": "python",
   "pygments_lexer": "ipython3",
   "version": "3.11.1"
  },
  "widgets": {
   "application/vnd.jupyter.widget-state+json": {
    "state": {},
    "version_major": 2,
    "version_minor": 0
   }
  }
 },
 "nbformat": 4,
 "nbformat_minor": 5
}
